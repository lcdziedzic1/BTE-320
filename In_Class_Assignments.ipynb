{
  "nbformat": 4,
  "nbformat_minor": 0,
  "metadata": {
    "colab": {
      "provenance": [],
      "authorship_tag": "ABX9TyP32Cjxa7J6cnMyEZdDTBjo",
      "include_colab_link": true
    },
    "kernelspec": {
      "name": "python3",
      "display_name": "Python 3"
    },
    "language_info": {
      "name": "python"
    }
  },
  "cells": [
    {
      "cell_type": "markdown",
      "metadata": {
        "id": "view-in-github",
        "colab_type": "text"
      },
      "source": [
        "<a href=\"https://colab.research.google.com/github/lcdziedzic1/BTE-320/blob/main/In_Class_Assignments.ipynb\" target=\"_parent\"><img src=\"https://colab.research.google.com/assets/colab-badge.svg\" alt=\"Open In Colab\"/></a>"
      ]
    },
    {
      "cell_type": "code",
      "execution_count": null,
      "metadata": {
        "colab": {
          "base_uri": "https://localhost:8080/"
        },
        "id": "E-jpbJqDgeht",
        "outputId": "3eca95b0-f253-4cc0-e022-5a571422020b"
      },
      "outputs": [
        {
          "output_type": "stream",
          "name": "stdout",
          "text": [
            "Enter sales ($): 12000\n",
            "Enter Cost of Goods sold (%): 40\n",
            "Enter tax rate (%): 30\n",
            "Cost of Goods sold: $4800.0\n",
            "Gross Profit: $7200.0\n",
            "Taxes: $2160.0\n",
            "Net Income: $5040.0\n"
          ]
        }
      ],
      "source": [
        "# Inputs: sales and cogs_pct\n",
        "sales = input(\"Enter sales ($): \")\n",
        "sales = float(sales)\n",
        "\n",
        "cogs_pct = input(\"Enter Cost of Goods sold (%): \")\n",
        "cogs_pct = float(cogs_pct)\n",
        "\n",
        "tax_pct = input(\"Enter tax rate (%): \")\n",
        "tax_pct = float(tax_pct)\n",
        "\n",
        "# Processes: calculate actual cost of goods sold\n",
        "cogs = sales * cogs_pct / 100\n",
        "grossProfit = sales - cogs\n",
        "\n",
        "taxes = grossProfit * (tax_pct / 100)\n",
        "netIncome = grossProfit - taxes\n",
        "\n",
        "#Outputs: Display cogs and grossProfit\n",
        "print(f\"Cost of Goods sold: ${cogs}\")\n",
        "print(f\"Gross Profit: ${grossProfit}\")\n",
        "print(f\"Taxes: ${taxes}\")\n",
        "print(f\"Net Income: ${netIncome}\")"
      ]
    },
    {
      "cell_type": "code",
      "source": [
        "#Inputs:\n",
        "demand = input(\"Enter demand (units/year): \")\n",
        "demand = int(demand)\n",
        "\n",
        "reorder = input(\"Enter reorder cost ($/unit): \")\n",
        "reorder = float(reorder)\n",
        "\n",
        "holding = input(\"Enter holding cost ($/unit/year): \")\n",
        "holding = float(holding)\n",
        "\n",
        "#Processes:\n",
        "eoq = (2 * demand * reorder / holding) **0.5\n",
        "\n",
        "#Outputs:\n",
        "print(f\"EOQ: {eoq} units\")"
      ],
      "metadata": {
        "colab": {
          "base_uri": "https://localhost:8080/"
        },
        "id": "8_IiZCTuLpvH",
        "outputId": "cd92a48b-86db-4220-8eb4-d4dd63e4df9b"
      },
      "execution_count": null,
      "outputs": [
        {
          "output_type": "stream",
          "name": "stdout",
          "text": [
            "Enter demand (units/year): 100\n",
            "Enter reorder cost ($/unit): 1.5\n",
            "Enter holding cost ($/unit/year): 3\n",
            "EOQ: 10.0 units\n"
          ]
        }
      ]
    },
    {
      "cell_type": "code",
      "source": [
        "#Inputs:\n",
        "n1 = float(input(\"Enter n1: \"))\n",
        "n2 = float(input(\"Enter n2: \"))\n",
        "op = input(\"Enter operator (+, -, *, /, //, **, %): \")\n",
        "\n",
        "res = None\n",
        "\n",
        "#Processes:\n",
        "if op == \"+\":\n",
        "  res = n1 + n2\n",
        "elif op == \"-\":\n",
        "  res = n1 - n2\n",
        "elif op == \"*\":\n",
        "  res = n1 * n2\n",
        "elif op == \"/\":\n",
        "  res = n1 / n2\n",
        "elif op == \"//\":\n",
        "  res = n1 ** n2\n",
        "elif op == \"%\":\n",
        "  res = n1 % n2\n",
        "else:\n",
        "  print(\"Invalid operator\")\n",
        "\n",
        "#Outputs:\n",
        "print(f\"result: {res}\")\n"
      ],
      "metadata": {
        "colab": {
          "base_uri": "https://localhost:8080/"
        },
        "id": "1LdTUCGCPGUJ",
        "outputId": "175d967d-da43-4930-a378-0d151ecc7bca"
      },
      "execution_count": null,
      "outputs": [
        {
          "output_type": "stream",
          "name": "stdout",
          "text": [
            "Enter n1: 5\n",
            "Enter n2: 5\n",
            "Enter operator (+, -, *, /, //, **, %): *\n",
            "result: 25.0\n"
          ]
        }
      ]
    },
    {
      "cell_type": "code",
      "source": [
        "print(\"Hours  Fee\")\n",
        "for hour in range(1, 9):\n",
        "  fee = 5 + 2.5 * hour\n",
        "  if fee < 10:\n",
        "    fee = 10\n",
        "  elif fee > 20:\n",
        "    fee = 20\n",
        "  print(f\"{hour}\\t{fee}\")"
      ],
      "metadata": {
        "colab": {
          "base_uri": "https://localhost:8080/"
        },
        "id": "wVTQY1FahdRW",
        "outputId": "b2c5a549-c286-496c-de2b-5c22a5bdb203"
      },
      "execution_count": null,
      "outputs": [
        {
          "output_type": "stream",
          "name": "stdout",
          "text": [
            "Hours  Fee\n",
            "1\t10\n",
            "2\t10.0\n",
            "3\t12.5\n",
            "4\t15.0\n",
            "5\t17.5\n",
            "6\t20.0\n",
            "7\t20\n",
            "8\t20\n"
          ]
        }
      ]
    },
    {
      "cell_type": "code",
      "source": [
        "for ad in range (0, 201, 25):\n",
        "  revenue = 20 * 10 + 10 * 2 * ad ** 0.5\n",
        "  expenses = 200 + ad\n",
        "  profit = revenue - expenses\n",
        "  print (ad, round(profit))"
      ],
      "metadata": {
        "colab": {
          "base_uri": "https://localhost:8080/"
        },
        "id": "jvw0ErYnRieq",
        "outputId": "3ad03309-9bff-46e9-baee-d2a1c2b12ce5"
      },
      "execution_count": null,
      "outputs": [
        {
          "output_type": "stream",
          "name": "stdout",
          "text": [
            "0 0\n",
            "25 75\n",
            "50 91\n",
            "75 98\n",
            "100 100\n",
            "125 99\n",
            "150 95\n",
            "175 90\n",
            "200 83\n"
          ]
        }
      ]
    },
    {
      "cell_type": "code",
      "source": [
        "L = []\n",
        "num = float(input(\"Give a number: \"))\n",
        "\n",
        "while num != 0:\n",
        "  L.append(num)\n",
        "  num = float(input(\"Give another number: \"))\n",
        "\n",
        "L.sort(reverse=True)\n",
        "print(L)\n",
        "\n"
      ],
      "metadata": {
        "colab": {
          "base_uri": "https://localhost:8080/"
        },
        "id": "2oxEOSUVujw5",
        "outputId": "63da2fda-0f85-4f2e-9980-da4c8188ebba"
      },
      "execution_count": 1,
      "outputs": [
        {
          "output_type": "stream",
          "name": "stdout",
          "text": [
            "Give a number: 5\n",
            "Give another number: 8\n",
            "Give another number: 1\n",
            "Give another number: 4\n",
            "Give another number: 0\n",
            "[8.0, 5.0, 4.0, 1.0]\n"
          ]
        }
      ]
    }
  ]
}