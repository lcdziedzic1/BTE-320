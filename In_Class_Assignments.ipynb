{
  "nbformat": 4,
  "nbformat_minor": 0,
  "metadata": {
    "colab": {
      "provenance": [],
      "authorship_tag": "ABX9TyM9lc3ITP4NK3VktkzVVVV0",
      "include_colab_link": true
    },
    "kernelspec": {
      "name": "python3",
      "display_name": "Python 3"
    },
    "language_info": {
      "name": "python"
    }
  },
  "cells": [
    {
      "cell_type": "markdown",
      "metadata": {
        "id": "view-in-github",
        "colab_type": "text"
      },
      "source": [
        "<a href=\"https://colab.research.google.com/github/lcdziedzic1/BTE-320/blob/main/In_Class_Assignments.ipynb\" target=\"_parent\"><img src=\"https://colab.research.google.com/assets/colab-badge.svg\" alt=\"Open In Colab\"/></a>"
      ]
    },
    {
      "cell_type": "code",
      "execution_count": null,
      "metadata": {
        "colab": {
          "base_uri": "https://localhost:8080/"
        },
        "id": "E-jpbJqDgeht",
        "outputId": "3eca95b0-f253-4cc0-e022-5a571422020b"
      },
      "outputs": [
        {
          "output_type": "stream",
          "name": "stdout",
          "text": [
            "Enter sales ($): 12000\n",
            "Enter Cost of Goods sold (%): 40\n",
            "Enter tax rate (%): 30\n",
            "Cost of Goods sold: $4800.0\n",
            "Gross Profit: $7200.0\n",
            "Taxes: $2160.0\n",
            "Net Income: $5040.0\n"
          ]
        }
      ],
      "source": [
        "# Inputs: sales and cogs_pct\n",
        "sales = input(\"Enter sales ($): \")\n",
        "sales = float(sales)\n",
        "\n",
        "cogs_pct = input(\"Enter Cost of Goods sold (%): \")\n",
        "cogs_pct = float(cogs_pct)\n",
        "\n",
        "tax_pct = input(\"Enter tax rate (%): \")\n",
        "tax_pct = float(tax_pct)\n",
        "\n",
        "# Processes: calculate actual cost of goods sold\n",
        "cogs = sales * cogs_pct / 100\n",
        "grossProfit = sales - cogs\n",
        "\n",
        "taxes = grossProfit * (tax_pct / 100)\n",
        "netIncome = grossProfit - taxes\n",
        "\n",
        "#Outputs: Display cogs and grossProfit\n",
        "print(f\"Cost of Goods sold: ${cogs}\")\n",
        "print(f\"Gross Profit: ${grossProfit}\")\n",
        "print(f\"Taxes: ${taxes}\")\n",
        "print(f\"Net Income: ${netIncome}\")"
      ]
    },
    {
      "cell_type": "code",
      "source": [
        "#Inputs:\n",
        "demand = input(\"Enter demand (units/year): \")\n",
        "demand = int(demand)\n",
        "\n",
        "reorder = input(\"Enter reorder cost ($/unit): \")\n",
        "reorder = float(reorder)\n",
        "\n",
        "holding = input(\"Enter holding cost ($/unit/year): \")\n",
        "holding = float(holding)\n",
        "\n",
        "#Processes:\n",
        "eoq = (2 * demand * reorder / holding) **0.5\n",
        "\n",
        "#Outputs:\n",
        "print(f\"EOQ: {eoq} units\")"
      ],
      "metadata": {
        "colab": {
          "base_uri": "https://localhost:8080/"
        },
        "id": "8_IiZCTuLpvH",
        "outputId": "cd92a48b-86db-4220-8eb4-d4dd63e4df9b"
      },
      "execution_count": null,
      "outputs": [
        {
          "output_type": "stream",
          "name": "stdout",
          "text": [
            "Enter demand (units/year): 100\n",
            "Enter reorder cost ($/unit): 1.5\n",
            "Enter holding cost ($/unit/year): 3\n",
            "EOQ: 10.0 units\n"
          ]
        }
      ]
    },
    {
      "cell_type": "code",
      "source": [
        "#Inputs:\n",
        "n1 = float(input(\"Enter n1: \"))\n",
        "n2 = float(input(\"Enter n2: \"))\n",
        "op = input(\"Enter operator (+, -, *, /, //, **, %): \")\n",
        "\n",
        "res = None\n",
        "\n",
        "#Processes:\n",
        "if op == \"+\":\n",
        "  res = n1 + n2\n",
        "elif op == \"-\":\n",
        "  res = n1 - n2\n",
        "elif op == \"*\":\n",
        "  res = n1 * n2\n",
        "elif op == \"/\":\n",
        "  res = n1 / n2\n",
        "elif op == \"//\":\n",
        "  res = n1 ** n2\n",
        "elif op == \"%\":\n",
        "  res = n1 % n2\n",
        "else:\n",
        "  print(\"Invalid operator\")\n",
        "\n",
        "#Outputs:\n",
        "print(f\"result: {res}\")\n"
      ],
      "metadata": {
        "colab": {
          "base_uri": "https://localhost:8080/"
        },
        "id": "1LdTUCGCPGUJ",
        "outputId": "175d967d-da43-4930-a378-0d151ecc7bca"
      },
      "execution_count": 7,
      "outputs": [
        {
          "output_type": "stream",
          "name": "stdout",
          "text": [
            "Enter n1: 5\n",
            "Enter n2: 5\n",
            "Enter operator (+, -, *, /, //, **, %): *\n",
            "result: 25.0\n"
          ]
        }
      ]
    }
  ]
}